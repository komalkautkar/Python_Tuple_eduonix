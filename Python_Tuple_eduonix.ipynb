{
 "cells": [
  {
   "cell_type": "code",
   "execution_count": null,
   "id": "633efb83",
   "metadata": {},
   "outputs": [],
   "source": [
    "###Tuple is enclosed in parenthesis()\n",
    "###Heterogenous-->multiple data type\n",
    "###Immutable-we cannot be change once created"
   ]
  },
  {
   "cell_type": "code",
   "execution_count": 5,
   "id": "4e025d8f",
   "metadata": {},
   "outputs": [
    {
     "name": "stdout",
     "output_type": "stream",
     "text": [
      "(1, 2, 3, 'R', 3.4, 5.6, 'Python')\n",
      "('Piyush', 'Sheela', 'pooja', 'Arun')\n",
      "<class 'tuple'>\n",
      "<class 'tuple'>\n"
     ]
    }
   ],
   "source": [
    "ex1=(1,2,3,\"R\",3.4,5.6,\"Python\")\n",
    "ex2=(\"Piyush\",\"Sheela\",\"pooja\",\"Arun\")\n",
    "print(ex1)\n",
    "print(ex2)\n",
    "print(type(ex1))\n",
    "print(type(ex2))"
   ]
  },
  {
   "cell_type": "code",
   "execution_count": 6,
   "id": "6b146a25",
   "metadata": {},
   "outputs": [
    {
     "name": "stdout",
     "output_type": "stream",
     "text": [
      "(1, 2, 3, 'R', 3.4, 5.6, 'Python')\n",
      "('Piyush', 'Sheela', 'pooja', 'Arun')\n",
      "<class 'tuple'>\n",
      "<class 'tuple'>\n"
     ]
    }
   ],
   "source": [
    "ex1=1,2,3,\"R\",3.4,5.6,\"Python\"                       ---- -------I am removing the parenthesis ,so it's called again tuple\n",
    "ex2=\"Piyush\",\"Sheela\",\"pooja\",\"Arun\"\n",
    "print(ex1)\n",
    "print(ex2)\n",
    "print(type(ex1))\n",
    "print(type(ex2))"
   ]
  },
  {
   "cell_type": "code",
   "execution_count": 4,
   "id": "7317c00c",
   "metadata": {},
   "outputs": [
    {
     "data": {
      "text/plain": [
       "False"
      ]
     },
     "execution_count": 4,
     "metadata": {},
     "output_type": "execute_result"
    }
   ],
   "source": [
    "ex1==ex2"
   ]
  },
  {
   "cell_type": "code",
   "execution_count": 7,
   "id": "dde87ab4",
   "metadata": {},
   "outputs": [
    {
     "data": {
      "text/plain": [
       "(2, 3, 'R', 3.4)"
      ]
     },
     "execution_count": 7,
     "metadata": {},
     "output_type": "execute_result"
    }
   ],
   "source": [
    "ex1[1:5]"
   ]
  },
  {
   "cell_type": "code",
   "execution_count": 8,
   "id": "2582c8b4",
   "metadata": {},
   "outputs": [
    {
     "data": {
      "text/plain": [
       "'pooja'"
      ]
     },
     "execution_count": 8,
     "metadata": {},
     "output_type": "execute_result"
    }
   ],
   "source": [
    "ex2[-2]"
   ]
  },
  {
   "cell_type": "code",
   "execution_count": 10,
   "id": "aec79204",
   "metadata": {},
   "outputs": [],
   "source": [
    "###Note:we can retrieve the elements using index"
   ]
  },
  {
   "cell_type": "code",
   "execution_count": 11,
   "id": "17a6d942",
   "metadata": {},
   "outputs": [
    {
     "ename": "TypeError",
     "evalue": "'tuple' object does not support item assignment",
     "output_type": "error",
     "traceback": [
      "\u001b[1;31m---------------------------------------------------------------------------\u001b[0m",
      "\u001b[1;31mTypeError\u001b[0m                                 Traceback (most recent call last)",
      "Cell \u001b[1;32mIn[11], line 1\u001b[0m\n\u001b[1;32m----> 1\u001b[0m ex2[\u001b[38;5;241m-\u001b[39m\u001b[38;5;241m2\u001b[39m]\u001b[38;5;241m=\u001b[39m\u001b[38;5;124m'\u001b[39m\u001b[38;5;124mvaishnavi\u001b[39m\u001b[38;5;124m'\u001b[39m\n\u001b[0;32m      2\u001b[0m ex2\n",
      "\u001b[1;31mTypeError\u001b[0m: 'tuple' object does not support item assignment"
     ]
    }
   ],
   "source": [
    "ex2[-2]='vaishnavi'                                         ----Immutable-we cannot be change once created\n",
    "ex2"
   ]
  },
  {
   "cell_type": "code",
   "execution_count": 12,
   "id": "0a79b148",
   "metadata": {},
   "outputs": [
    {
     "data": {
      "text/plain": [
       "('Piyush', 'Sheela', 'pooja', 'Arun', 'Piyush', 'Sheela', 'pooja', 'Arun')"
      ]
     },
     "execution_count": 12,
     "metadata": {},
     "output_type": "execute_result"
    }
   ],
   "source": [
    "tuple3=ex2*2\n",
    "tuple3"
   ]
  },
  {
   "cell_type": "code",
   "execution_count": 15,
   "id": "d6cebcb1",
   "metadata": {},
   "outputs": [],
   "source": [
    "###But somehow replace or add the elements how can do that in tuple?\n",
    "###by creating a converting a list ,after that change it."
   ]
  },
  {
   "cell_type": "code",
   "execution_count": 16,
   "id": "e53aca33",
   "metadata": {},
   "outputs": [
    {
     "data": {
      "text/plain": [
       "('Piyush', 'Sheela', 'pooja', 'Arun')"
      ]
     },
     "execution_count": 16,
     "metadata": {},
     "output_type": "execute_result"
    }
   ],
   "source": [
    "ex2"
   ]
  },
  {
   "cell_type": "code",
   "execution_count": 17,
   "id": "4476dc6b",
   "metadata": {},
   "outputs": [
    {
     "data": {
      "text/plain": [
       "tuple"
      ]
     },
     "execution_count": 17,
     "metadata": {},
     "output_type": "execute_result"
    }
   ],
   "source": [
    "type(ex2)"
   ]
  },
  {
   "cell_type": "code",
   "execution_count": 19,
   "id": "e916daee",
   "metadata": {},
   "outputs": [
    {
     "data": {
      "text/plain": [
       "['Piyush', 'Sheela', 'pooja', 'Arun']"
      ]
     },
     "execution_count": 19,
     "metadata": {},
     "output_type": "execute_result"
    }
   ],
   "source": [
    "ex3=list(ex2)\n",
    "ex3"
   ]
  },
  {
   "cell_type": "code",
   "execution_count": 21,
   "id": "35b3c485",
   "metadata": {},
   "outputs": [
    {
     "data": {
      "text/plain": [
       "['Piyush', 'Sheela', 'vaishnavi', 'Arun']"
      ]
     },
     "execution_count": 21,
     "metadata": {},
     "output_type": "execute_result"
    }
   ],
   "source": [
    "ex3[2]='vaishnavi'\n",
    "ex3"
   ]
  },
  {
   "cell_type": "code",
   "execution_count": null,
   "id": "e67c9565",
   "metadata": {},
   "outputs": [],
   "source": []
  }
 ],
 "metadata": {
  "kernelspec": {
   "display_name": "Python 3 (ipykernel)",
   "language": "python",
   "name": "python3"
  },
  "language_info": {
   "codemirror_mode": {
    "name": "ipython",
    "version": 3
   },
   "file_extension": ".py",
   "mimetype": "text/x-python",
   "name": "python",
   "nbconvert_exporter": "python",
   "pygments_lexer": "ipython3",
   "version": "3.11.5"
  }
 },
 "nbformat": 4,
 "nbformat_minor": 5
}
